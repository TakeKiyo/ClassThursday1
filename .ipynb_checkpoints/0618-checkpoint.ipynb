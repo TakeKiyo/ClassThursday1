{
 "cells": [
  {
   "cell_type": "code",
   "execution_count": 3,
   "metadata": {},
   "outputs": [
    {
     "data": {
      "text/plain": [
       "<Figure size 432x288 with 0 Axes>"
      ]
     },
     "metadata": {},
     "output_type": "display_data"
    },
    {
     "name": "stdout",
     "output_type": "stream",
     "text": [
      "test\n"
     ]
    }
   ],
   "source": [
    "import matplotlib\n",
    " \n",
    "import matplotlib.animation as animation\n",
    " \n",
    " \n",
    "import numpy as np\n",
    "import matplotlib.pyplot as plt\n",
    "import random as rnd\n",
    "  \n",
    "# set parameters\n",
    "N= 100\n",
    "T= 100\n",
    "W= 30\n",
    "SEED=101\n",
    "agents= []\n",
    "  \n",
    "## define functions\n",
    "def clip(x):\n",
    "    if x<0:\n",
    "        return(x+W)\n",
    "    elif x>=W:\n",
    "        return(x-W)\n",
    "    else:\n",
    "        return(x)\n",
    " \n",
    "  \n",
    "## define classes\n",
    "class Agent(object):\n",
    "  \n",
    "    def __init__(self):\n",
    "        self.x= rnd.randint(0, W-1)\n",
    "        self.y= rnd.randint(0, W-1)\n",
    "     \n",
    "    def randomwalk(self):\n",
    "        self.x+= rnd.randint(-1, 1)\n",
    "        self.y+= rnd.randint(-1, 1)\n",
    "        self.x= clip(self.x)\n",
    "        self.y= clip(self.y)\n",
    "  \n",
    "  \n",
    "# initialize variables\n",
    "rnd.seed(SEED)\n",
    "agents=[Agent() for i in range(N)]\n",
    "fig = plt.figure()\n",
    " \n",
    " \n",
    "# main loop (call back function for animation)\n",
    "def main_loop(t):\n",
    "    step()\n",
    "    update(t)\n",
    "  \n",
    "# events in a step\n",
    "def step():\n",
    "    rnd.shuffle(agents)\n",
    "    for a in agents:\n",
    "        a.randomwalk()\n",
    "         \n",
    "# update function for graph\n",
    "def update(t):    \n",
    "    fig.clear()\n",
    "    ax1= fig.add_subplot(2, 2, 1)\n",
    "    x= [a.x for a in agents]\n",
    "    y= [a.y for a in agents]\n",
    "    ax1.scatter(x, y, color='brown')\n",
    "    ax1.axis([-1, W, -1, W])\n",
    "    ax1.set_title('t = ' + str(t))\n",
    "  \n",
    "    ax2= fig.add_subplot(2, 2, 3)\n",
    "    ax2.hist(x, W)\n",
    "    ax2.axis([-1, W, -1, W])\n",
    "     \n",
    "    ax3= fig.add_subplot(2, 2, 4)\n",
    "    ax3.hist(y, W)\n",
    "    ax3.axis([-1, W, -1, W])\n",
    "  \n",
    " \n",
    "ani = animation.FuncAnimation(fig, main_loop, np.arange(0, T), interval=25, repeat=False)\n",
    "print(\"test\")\n",
    "plt.show()"
   ]
  },
  {
   "cell_type": "code",
   "execution_count": null,
   "metadata": {},
   "outputs": [],
   "source": []
  }
 ],
 "metadata": {
  "kernelspec": {
   "display_name": "Python 3",
   "language": "python",
   "name": "python3"
  },
  "language_info": {
   "codemirror_mode": {
    "name": "ipython",
    "version": 3
   },
   "file_extension": ".py",
   "mimetype": "text/x-python",
   "name": "python",
   "nbconvert_exporter": "python",
   "pygments_lexer": "ipython3",
   "version": "3.7.4"
  }
 },
 "nbformat": 4,
 "nbformat_minor": 2
}
