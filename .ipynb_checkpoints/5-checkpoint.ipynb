{
 "cells": [
  {
   "cell_type": "code",
   "execution_count": 1,
   "metadata": {},
   "outputs": [],
   "source": [
    "import matplotlib.pyplot as plt\n",
    "import numpy as np\n",
    "import random as rnd\n",
    " \n",
    "def ca_1d(l, t, rule, cell_i):\n",
    "    cell= cell_i\n",
    "    data= [cell]\n",
    "    for i in range(t):\n",
    "        cell_next= [0 for i in range(l)]\n",
    "        for j in range(l):\n",
    "            neighboringstate= cell[(j-1+l)%l]*4+cell[j]*2+cell[(j+1)%l]\n",
    "            cell_next[j]= rule[neighboringstate]\n",
    "        cell= cell_next\n",
    "        data.append(cell)\n",
    "    return(data)"
   ]
  },
  {
   "cell_type": "code",
   "execution_count": 4,
   "metadata": {},
   "outputs": [],
   "source": [
    "L=101\n",
    "T=100\n",
    "SEED=100\n",
    "rnd.seed(SEED)\n",
    "RNO= 90\n",
    "RULE= [(RNO>>i)&1 for i in range(8)]"
   ]
  },
  {
   "cell_type": "code",
   "execution_count": 6,
   "metadata": {},
   "outputs": [],
   "source": [
    "#[0, 0, ..., 0, 1, 0, ..., 0, 0]\n",
    "cell_init= [0 for i in range(L)]\n",
    "cell_init[L//2]= 1"
   ]
  },
  {
   "cell_type": "code",
   "execution_count": 7,
   "metadata": {},
   "outputs": [],
   "source": [
    "dataXY= ca_1d(L, T, RULE, cell_init)"
   ]
  },
  {
   "cell_type": "code",
   "execution_count": 9,
   "metadata": {},
   "outputs": [
    {
     "data": {
      "image/png": "[encoded data removed]",
      "text/plain": [
       "<Figure size 360x432 with 1 Axes>"
      ]
     },
     "metadata": {
      "needs_background": "light"
     },
     "output_type": "display_data"
    }
   ],
   "source": [
    "fig= plt.figure(figsize=(5, 6))\n",
    "ax= fig.add_subplot(1,1,1)\n",
    "ax.pcolor(np.array(dataXY), vmin = 0, vmax = 1,  cmap= plt.cm.binary)\n",
    "ax.set_xlim(0, L)\n",
    "ax.set_ylim(T-1, 0)\n",
    "ax.set_xlabel(\"cell number\")\n",
    "ax.set_ylabel(\"step\")\n",
    "ax.set_title(\"rule\" + str(RNO))\n",
    "plt.show()"
   ]
  },
  {
   "cell_type": "code",
   "execution_count": 10,
   "metadata": {},
   "outputs": [],
   "source": [
    "#calcEntropy\n",
    "import numpy as np\n",
    " \n",
    "def calcEntropy(data):\n",
    "    dic= {}\n",
    "    for d in data:\n",
    "        if d in dic:\n",
    "            dic[d]= dic[d]+1\n",
    "        else:\n",
    "            dic[d]= 1\n",
    "    probdist= np.array(list(dic.values()))/(float)(len(data))\n",
    "    return(np.sum([-p * np.log2(p) for p in probdist]))\n"
   ]
  },
  {
   "cell_type": "code",
   "execution_count": 12,
   "metadata": {},
   "outputs": [
    {
     "name": "stdout",
     "output_type": "stream",
     "text": [
      "0.9709505944546686\n"
     ]
    }
   ],
   "source": [
    "print(calcEntropy([0, 1, 0, 1, 1]))"
   ]
  },
  {
   "cell_type": "code",
   "execution_count": 17,
   "metadata": {},
   "outputs": [
    {
     "name": "stdout",
     "output_type": "stream",
     "text": [
      "[0, 1]\n",
      "[0, 1]\n",
      "[0, 1]\n",
      "[0, 1]\n",
      "[0, 1]\n"
     ]
    }
   ],
   "source": [
    "#calcJointEntropy\n",
    "def calcJointEntropy(dataXY):\n",
    "    for k in range(len(dataXY[0])):\n",
    "        data_j= [dataXY[i][k] for i in range(len(dataXY))]\n",
    "        print(data_j)\n",
    "testData = [[1,0,1,1,0],[0,1,1,0,0]]\n",
    "calcJointEntropy(testData)"
   ]
  },
  {
   "cell_type": "code",
   "execution_count": null,
   "metadata": {},
   "outputs": [],
   "source": []
  }
 ],
 "metadata": {
  "kernelspec": {
   "display_name": "Python 3",
   "language": "python",
   "name": "python3"
  },
  "language_info": {
   "codemirror_mode": {
    "name": "ipython",
    "version": 3
   },
   "file_extension": ".py",
   "mimetype": "text/x-python",
   "name": "python",
   "nbconvert_exporter": "python",
   "pygments_lexer": "ipython3",
   "version": "3.7.4"
  }
 },
 "nbformat": 4,
 "nbformat_minor": 2
}
